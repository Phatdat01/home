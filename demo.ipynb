{
 "cells": [
  {
   "cell_type": "code",
   "execution_count": 2,
   "metadata": {},
   "outputs": [],
   "source": [
    "from ultralytics import YOLO"
   ]
  },
  {
   "cell_type": "code",
   "execution_count": 3,
   "metadata": {},
   "outputs": [],
   "source": [
    "yolo = YOLO(\"best.pt\", task=\"detect\")"
   ]
  },
  {
   "cell_type": "code",
   "execution_count": 4,
   "metadata": {},
   "outputs": [],
   "source": [
    "import cv2\n",
    "image = cv2.imread(\"val/CACOM (1).jpg\")"
   ]
  },
  {
   "cell_type": "code",
   "execution_count": 5,
   "metadata": {},
   "outputs": [],
   "source": [
    "result = yolo.track(\n",
    "    image,\n",
    "    persist=True,\n",
    "    verbose=False,\n",
    "    tracker=\"bytetrack.yaml\",\n",
    ")"
   ]
  },
  {
   "cell_type": "code",
   "execution_count": 6,
   "metadata": {},
   "outputs": [],
   "source": [
    "import supervision as sv"
   ]
  },
  {
   "cell_type": "code",
   "execution_count": 7,
   "metadata": {},
   "outputs": [],
   "source": [
    "detection = sv.Detections.from_ultralytics(result[0])"
   ]
  },
  {
   "cell_type": "code",
   "execution_count": 8,
   "metadata": {},
   "outputs": [
    {
     "data": {
      "text/plain": [
       "Detections(xyxy=array([[     26.262,      1548.7,      1810.5,        3117]], dtype=float32), mask=None, confidence=array([    0.99324], dtype=float32), class_id=array([0]), tracker_id=array([1], dtype=int32), data={'class_name': array(['ca com'], dtype='<U6')}, metadata={})"
      ]
     },
     "execution_count": 8,
     "metadata": {},
     "output_type": "execute_result"
    }
   ],
   "source": [
    "detection"
   ]
  },
  {
   "cell_type": "code",
   "execution_count": 59,
   "metadata": {},
   "outputs": [
    {
     "data": {
      "text/plain": [
       "Detections(xyxy=array([[          0,       540.9,        2080,      3657.8]], dtype=float32), mask=None, confidence=array([    0.99531], dtype=float32), class_id=array([6]), tracker_id=array([1], dtype=int32), data={'class_name': array(['maggi'], dtype='<U5')}, metadata={})"
      ]
     },
     "execution_count": 59,
     "metadata": {},
     "output_type": "execute_result"
    }
   ],
   "source": [
    "image = cv2.imread(\"val/MAGI (1).jpg\")\n",
    "result = yolo.track(\n",
    "    image,\n",
    "    persist=True,\n",
    "    verbose=False,\n",
    "    tracker=\"bytetrack.yaml\",\n",
    ")\n",
    "detection = sv.Detections.from_ultralytics(result[0])\n",
    "detection"
   ]
  },
  {
   "cell_type": "code",
   "execution_count": 60,
   "metadata": {},
   "outputs": [
    {
     "data": {
      "text/plain": [
       "array([          0,       540.9,        2080,      3657.8], dtype=float32)"
      ]
     },
     "execution_count": 60,
     "metadata": {},
     "output_type": "execute_result"
    }
   ],
   "source": [
    "area = detection.xyxy[0]\n",
    "area"
   ]
  },
  {
   "cell_type": "code",
   "execution_count": 61,
   "metadata": {},
   "outputs": [
    {
     "data": {
      "text/plain": [
       "[{'id': 0,\n",
       "  'name': 'ca com',\n",
       "  'price': 30,\n",
       "  'img': 'static/uploads/CACOM (1).jpg'},\n",
       " {'id': 1,\n",
       "  'name': 'cai lan',\n",
       "  'price': 40,\n",
       "  'img': 'static/uploads/CAILAN (1).jpg'},\n",
       " {'id': 2,\n",
       "  'name': 'dau nanh',\n",
       "  'price': 60,\n",
       "  'img': 'static/uploads/DAUNANH (1).jpg'},\n",
       " {'id': 3,\n",
       "  'name': 'de nhi',\n",
       "  'price': 23,\n",
       "  'img': 'static/uploads/DENHI (1).jpg'},\n",
       " {'id': 4, 'name': 'gold', 'price': 45, 'img': 'static/uploads/GOLD (1).jpg'},\n",
       " {'id': 5,\n",
       "  'name': 'hang viet',\n",
       "  'price': 8,\n",
       "  'img': 'static/uploads/HANGVIET (1).jpg'},\n",
       " {'id': 6, 'name': 'maggi', 'price': 32, 'img': 'static/uploads/MAGI (1).jpg'},\n",
       " {'id': 7,\n",
       "  'name': 'nam ngu',\n",
       "  'price': 47,\n",
       "  'img': 'static/uploads/NAMNGU (1).jpg'},\n",
       " {'id': 8,\n",
       "  'name': 'nhat ca',\n",
       "  'price': 11,\n",
       "  'img': 'static/uploads/NHATCA (1).jpg'},\n",
       " {'id': 9,\n",
       "  'name': 'tuong an',\n",
       "  'price': 48,\n",
       "  'img': 'static/uploads/TUONGAN (1).jpg'}]"
      ]
     },
     "execution_count": 61,
     "metadata": {},
     "output_type": "execute_result"
    }
   ],
   "source": [
    "import requests\n",
    "\n",
    "price_data = requests.get(\"https://phatdat01.github.io/home/product.json\").json()\n",
    "price_data"
   ]
  },
  {
   "cell_type": "code",
   "execution_count": null,
   "metadata": {},
   "outputs": [
    {
     "data": {
      "text/plain": [
       "True"
      ]
     },
     "execution_count": 62,
     "metadata": {},
     "output_type": "execute_result"
    }
   ],
   "source": [
    "for xyxy, conf, class_name in zip(detection.xyxy, detection.confidence, detection.data[\"class_name\"]):\n",
    "    x1, y1, x2, y2 = map(int, xyxy)  # Convert coordinates to integers\n",
    "\n",
    "    # Draw bounding box\n",
    "    cv2.rectangle(image, (x1, y1), (x2, y2), (0, 255, 0), 15)\n",
    "\n",
    "    # Add label with confidence score\n",
    "    label = f\"{class_name}({conf*100:.0f}%): {price_data[6]['price'] if price_data[6]['name']==class_name else 0}K\"\n",
    "    cv2.putText(image, label, (x1, max(0, y1 - 10)), cv2.FONT_HERSHEY_SIMPLEX, 6, (0, 0, 255), 15)\n",
    "\n",
    "cv2.imwrite(\"output.jpg\", image)"
   ]
  },
  {
   "cell_type": "code",
   "execution_count": null,
   "metadata": {},
   "outputs": [],
   "source": []
  }
 ],
 "metadata": {
  "kernelspec": {
   "display_name": ".venv",
   "language": "python",
   "name": "python3"
  },
  "language_info": {
   "codemirror_mode": {
    "name": "ipython",
    "version": 3
   },
   "file_extension": ".py",
   "mimetype": "text/x-python",
   "name": "python",
   "nbconvert_exporter": "python",
   "pygments_lexer": "ipython3",
   "version": "3.9.13"
  }
 },
 "nbformat": 4,
 "nbformat_minor": 2
}
